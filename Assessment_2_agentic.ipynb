{
  "nbformat": 4,
  "nbformat_minor": 0,
  "metadata": {
    "colab": {
      "provenance": []
    },
    "kernelspec": {
      "name": "python3",
      "display_name": "Python 3"
    },
    "language_info": {
      "name": "python"
    }
  },
  "cells": [
    {
      "cell_type": "code",
      "execution_count": null,
      "metadata": {
        "id": "NS7r_UPL-2PE"
      },
      "outputs": [],
      "source": [
        "## Prompt and Debugging\n",
        "\n",
        "Build a Gradio app with 3 tabs:\n",
        "\n",
        "Visual Question Answering (VQA)\n",
        "\n",
        "Image Classification\n",
        "\n",
        "Image Captioning(not default)\n",
        "\n",
        "Each tab should support image input via upload, camera, and URL.\n"
      ]
    }
  ]
}